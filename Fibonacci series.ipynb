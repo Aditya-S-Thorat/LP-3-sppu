{
 "cells": [
  {
   "cell_type": "markdown",
   "id": "d1933727-1187-4141-94b3-c1d1a2bfd11e",
   "metadata": {},
   "source": [
    "# DAA Practical No. 1"
   ]
  },
  {
   "cell_type": "markdown",
   "id": "e8a0cefc-852e-4933-9aec-7fe544214b15",
   "metadata": {},
   "source": [
    "### Fibonacci Series using non-Recursive method "
   ]
  },
  {
   "cell_type": "code",
   "execution_count": 6,
   "id": "7bb8bf5e-1b3e-4b91-883c-84b6b03d0b03",
   "metadata": {},
   "outputs": [
    {
     "name": "stdin",
     "output_type": "stream",
     "text": [
      "Enter the limit for fibonacci series:  10\n"
     ]
    },
    {
     "name": "stdout",
     "output_type": "stream",
     "text": [
      "0 - 1 - 1 - 2 - 3 - 5 - 8 - 13 - 21 - 34 - "
     ]
    }
   ],
   "source": [
    "a, b=0, 1 # initialize starting digits\n",
    "for i in range(int(input(\"Enter the limit for fibonacci series: \"))): # looping for user input times\n",
    "    print(a, end= ' - ') # print values\n",
    "    a, b= b, a+b # change and increment"
   ]
  },
  {
   "cell_type": "markdown",
   "id": "4809d571-4c5a-4a82-93bb-055e8d42b790",
   "metadata": {},
   "source": [
    "### Fibonacci Series using Recursive method"
   ]
  },
  {
   "cell_type": "code",
   "execution_count": 5,
   "id": "21810b6d-90eb-499b-8f09-de05496d0dc3",
   "metadata": {},
   "outputs": [
    {
     "name": "stdin",
     "output_type": "stream",
     "text": [
      "Enter the limit for fibonacci series:  10\n"
     ]
    },
    {
     "name": "stdout",
     "output_type": "stream",
     "text": [
      "0 - 1 - 1 - 2 - 3 - 5 - 8 - 13 - 21 - 34 - "
     ]
    }
   ],
   "source": [
    "def fib(n, a= 0, b= 1): # function for fibonacci series\n",
    "    if n<=0: return # end recursion if n<=0\n",
    "    print(a, end= ' - ') # print vales\n",
    "    fib(n-1, b, b+a) # call recursion\n",
    "    return \n",
    "\n",
    "fib(int(input(\"Enter the limit for fibonacci series: \"))) # call function"
   ]
  }
 ],
 "metadata": {
  "kernelspec": {
   "display_name": "Python 3 (ipykernel)",
   "language": "python",
   "name": "python3"
  },
  "language_info": {
   "codemirror_mode": {
    "name": "ipython",
    "version": 3
   },
   "file_extension": ".py",
   "mimetype": "text/x-python",
   "name": "python",
   "nbconvert_exporter": "python",
   "pygments_lexer": "ipython3",
   "version": "3.11.7"
  }
 },
 "nbformat": 4,
 "nbformat_minor": 5
}
